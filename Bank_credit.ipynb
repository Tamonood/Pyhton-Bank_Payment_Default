{
 "cells": [
  {
   "cell_type": "code",
   "execution_count": 30,
   "id": "d04a0d0b",
   "metadata": {
    "slideshow": {
     "slide_type": "-"
    }
   },
   "outputs": [],
   "source": [
    "# Import necessary libraries\n",
    "import pandas as pd\n",
    "import numpy as np\n",
    "from pandas import Series, DataFrame\n",
    "import scipy\n",
    "from scipy.stats import spearmanr\n",
    "from pylab import rcParams\n",
    "\n",
    "import seaborn as sb\n",
    "import matplotlib.pyplot as plt\n",
    "\n",
    "import sklearn\n",
    "from sklearn.preprocessing import scale\n",
    "from sklearn.model_selection import train_test_split\n",
    "from sklearn.linear_model import LogisticRegression\n",
    "from sklearn import metrics\n",
    "from sklearn import preprocessing"
   ]
  },
  {
   "cell_type": "code",
   "execution_count": 31,
   "id": "f5bad84a",
   "metadata": {
    "slideshow": {
     "slide_type": "slide"
    }
   },
   "outputs": [],
   "source": [
    "%matplotlib inline\n",
    "rcParams['figure.figsize']=5,4\n",
    "sb.set_style('whitegrid')"
   ]
  },
  {
   "cell_type": "code",
   "execution_count": 32,
   "id": "5d0ac3c6",
   "metadata": {
    "slideshow": {
     "slide_type": "slide"
    }
   },
   "outputs": [
    {
     "data": {
      "text/html": [
       "<div>\n",
       "<style scoped>\n",
       "    .dataframe tbody tr th:only-of-type {\n",
       "        vertical-align: middle;\n",
       "    }\n",
       "\n",
       "    .dataframe tbody tr th {\n",
       "        vertical-align: top;\n",
       "    }\n",
       "\n",
       "    .dataframe thead th {\n",
       "        text-align: right;\n",
       "    }\n",
       "</style>\n",
       "<table border=\"1\" class=\"dataframe\">\n",
       "  <thead>\n",
       "    <tr style=\"text-align: right;\">\n",
       "      <th></th>\n",
       "      <th>Month</th>\n",
       "      <th>Name</th>\n",
       "      <th>Age</th>\n",
       "      <th>Occupation</th>\n",
       "      <th>Annual_Income</th>\n",
       "      <th>Monthly_Inhand_Salary</th>\n",
       "      <th>Num_Bank_Accounts</th>\n",
       "      <th>Num_Credit_Card</th>\n",
       "      <th>Interest_Rate</th>\n",
       "      <th>Num_of_Loan</th>\n",
       "      <th>Delay_from_due_date</th>\n",
       "      <th>Num_of_Delayed_Payment</th>\n",
       "      <th>Changed_Credit_Limit</th>\n",
       "      <th>Num_Credit_Inquiries</th>\n",
       "      <th>Outstanding_Debt</th>\n",
       "      <th>Credit_Utilization_Ratio</th>\n",
       "      <th>Payment_of_Min_Amount</th>\n",
       "      <th>Total_EMI_per_month</th>\n",
       "      <th>Amount_invested_monthly</th>\n",
       "      <th>Monthly_Balance</th>\n",
       "    </tr>\n",
       "  </thead>\n",
       "  <tbody>\n",
       "    <tr>\n",
       "      <th>0</th>\n",
       "      <td>October</td>\n",
       "      <td>Aaron Maashoh</td>\n",
       "      <td>24</td>\n",
       "      <td>Scientist</td>\n",
       "      <td>19114.12</td>\n",
       "      <td>1824.843333</td>\n",
       "      <td>3</td>\n",
       "      <td>4</td>\n",
       "      <td>3</td>\n",
       "      <td>4</td>\n",
       "      <td>3</td>\n",
       "      <td>9</td>\n",
       "      <td>13.27</td>\n",
       "      <td>4</td>\n",
       "      <td>809.98</td>\n",
       "      <td>33.053114</td>\n",
       "      <td>0</td>\n",
       "      <td>49.574949</td>\n",
       "      <td>21.465380</td>\n",
       "      <td>361.444004</td>\n",
       "    </tr>\n",
       "    <tr>\n",
       "      <th>1</th>\n",
       "      <td>November</td>\n",
       "      <td>Aaron Maashoh</td>\n",
       "      <td>24</td>\n",
       "      <td>Scientist</td>\n",
       "      <td>19114.12</td>\n",
       "      <td>1824.843333</td>\n",
       "      <td>3</td>\n",
       "      <td>4</td>\n",
       "      <td>3</td>\n",
       "      <td>4</td>\n",
       "      <td>-1</td>\n",
       "      <td>4</td>\n",
       "      <td>12.27</td>\n",
       "      <td>4</td>\n",
       "      <td>809.98</td>\n",
       "      <td>33.811894</td>\n",
       "      <td>0</td>\n",
       "      <td>49.574949</td>\n",
       "      <td>148.233938</td>\n",
       "      <td>264.675446</td>\n",
       "    </tr>\n",
       "    <tr>\n",
       "      <th>2</th>\n",
       "      <td>December</td>\n",
       "      <td>Aaron Maashoh</td>\n",
       "      <td>24</td>\n",
       "      <td>Scientist</td>\n",
       "      <td>19114.12</td>\n",
       "      <td>1824.843333</td>\n",
       "      <td>3</td>\n",
       "      <td>4</td>\n",
       "      <td>3</td>\n",
       "      <td>4</td>\n",
       "      <td>4</td>\n",
       "      <td>5</td>\n",
       "      <td>11.27</td>\n",
       "      <td>4</td>\n",
       "      <td>809.98</td>\n",
       "      <td>32.430559</td>\n",
       "      <td>0</td>\n",
       "      <td>49.574949</td>\n",
       "      <td>39.082511</td>\n",
       "      <td>343.826873</td>\n",
       "    </tr>\n",
       "    <tr>\n",
       "      <th>3</th>\n",
       "      <td>October</td>\n",
       "      <td>Rick Rothackerj</td>\n",
       "      <td>28</td>\n",
       "      <td>Teacher</td>\n",
       "      <td>34847.84</td>\n",
       "      <td>3037.986667</td>\n",
       "      <td>2</td>\n",
       "      <td>4</td>\n",
       "      <td>6</td>\n",
       "      <td>1</td>\n",
       "      <td>3</td>\n",
       "      <td>3</td>\n",
       "      <td>5.42</td>\n",
       "      <td>5</td>\n",
       "      <td>605.03</td>\n",
       "      <td>30.116600</td>\n",
       "      <td>0</td>\n",
       "      <td>18.816215</td>\n",
       "      <td>251.627369</td>\n",
       "      <td>303.355083</td>\n",
       "    </tr>\n",
       "    <tr>\n",
       "      <th>4</th>\n",
       "      <td>October</td>\n",
       "      <td>Langep</td>\n",
       "      <td>35</td>\n",
       "      <td>Engineer</td>\n",
       "      <td>143162.64</td>\n",
       "      <td>12187.220000</td>\n",
       "      <td>1</td>\n",
       "      <td>5</td>\n",
       "      <td>8</td>\n",
       "      <td>3</td>\n",
       "      <td>6</td>\n",
       "      <td>3</td>\n",
       "      <td>2.10</td>\n",
       "      <td>3</td>\n",
       "      <td>1303.01</td>\n",
       "      <td>35.685836</td>\n",
       "      <td>0</td>\n",
       "      <td>246.992320</td>\n",
       "      <td>453.615131</td>\n",
       "      <td>788.114550</td>\n",
       "    </tr>\n",
       "  </tbody>\n",
       "</table>\n",
       "</div>"
      ],
      "text/plain": [
       "      Month             Name  Age Occupation Annual_Income  \\\n",
       "0   October    Aaron Maashoh   24  Scientist      19114.12   \n",
       "1  November    Aaron Maashoh   24  Scientist      19114.12   \n",
       "2  December    Aaron Maashoh   24  Scientist      19114.12   \n",
       "3   October  Rick Rothackerj   28    Teacher      34847.84   \n",
       "4   October           Langep   35   Engineer     143162.64   \n",
       "\n",
       "   Monthly_Inhand_Salary  Num_Bank_Accounts  Num_Credit_Card  Interest_Rate  \\\n",
       "0            1824.843333                  3                4              3   \n",
       "1            1824.843333                  3                4              3   \n",
       "2            1824.843333                  3                4              3   \n",
       "3            3037.986667                  2                4              6   \n",
       "4           12187.220000                  1                5              8   \n",
       "\n",
       "   Num_of_Loan  Delay_from_due_date  Num_of_Delayed_Payment  \\\n",
       "0            4                    3                       9   \n",
       "1            4                   -1                       4   \n",
       "2            4                    4                       5   \n",
       "3            1                    3                       3   \n",
       "4            3                    6                       3   \n",
       "\n",
       "   Changed_Credit_Limit  Num_Credit_Inquiries  Outstanding_Debt  \\\n",
       "0                 13.27                     4            809.98   \n",
       "1                 12.27                     4            809.98   \n",
       "2                 11.27                     4            809.98   \n",
       "3                  5.42                     5            605.03   \n",
       "4                  2.10                     3           1303.01   \n",
       "\n",
       "   Credit_Utilization_Ratio  Payment_of_Min_Amount  Total_EMI_per_month  \\\n",
       "0                 33.053114                      0            49.574949   \n",
       "1                 33.811894                      0            49.574949   \n",
       "2                 32.430559                      0            49.574949   \n",
       "3                 30.116600                      0            18.816215   \n",
       "4                 35.685836                      0           246.992320   \n",
       "\n",
       "   Amount_invested_monthly  Monthly_Balance  \n",
       "0                21.465380       361.444004  \n",
       "1               148.233938       264.675446  \n",
       "2                39.082511       343.826873  \n",
       "3               251.627369       303.355083  \n",
       "4               453.615131       788.114550  "
      ]
     },
     "execution_count": 32,
     "metadata": {},
     "output_type": "execute_result"
    }
   ],
   "source": [
    "address='C:/Users/tamon/Desktop/Python/Bank Credit Score/credit_data.csv'\n",
    "credit=pd.read_csv(address)\n",
    "credit.columns=['Month','Name','Age','Occupation','Annual_Income','Monthly_Inhand_Salary','Num_Bank_Accounts','Num_Credit_Card','Interest_Rate','Num_of_Loan','Delay_from_due_date','Num_of_Delayed_Payment','Changed_Credit_Limit','Num_Credit_Inquiries','Outstanding_Debt','Credit_Utilization_Ratio','Payment_of_Min_Amount','Total_EMI_per_month','Amount_invested_monthly','Monthly_Balance']\n",
    "credit.head()"
   ]
  },
  {
   "cell_type": "code",
   "execution_count": 33,
   "id": "605c3c89",
   "metadata": {
    "slideshow": {
     "slide_type": "slide"
    }
   },
   "outputs": [
    {
     "name": "stdout",
     "output_type": "stream",
     "text": [
      "[0 0 0 0 0 0 0 0 0 1 0 0 0 0 1 1 1 0 0 1 1 1 1 1 1 1 1 1 1 1 1 1 1 1 1 1 1\n",
      " 1 1 1 1 1 1 1 1 1 1 1 0 0 0 0 1 1 1 1 0 0 0 0 1 1 1 1]\n"
     ]
    }
   ],
   "source": [
    "credit.columns\n",
    "cols=['Monthly_Inhand_Salary','Outstanding_Debt']\n",
    "credit_data=credit[cols]\n",
    "y=credit.iloc[:,16].values\n",
    "print(y)"
   ]
  },
  {
   "cell_type": "code",
   "execution_count": 34,
   "id": "a3e8e527",
   "metadata": {
    "slideshow": {
     "slide_type": "slide"
    }
   },
   "outputs": [
    {
     "data": {
      "text/plain": [
       "<Axes: xlabel='Monthly_Inhand_Salary', ylabel='Outstanding_Debt'>"
      ]
     },
     "execution_count": 34,
     "metadata": {},
     "output_type": "execute_result"
    },
    {
     "data": {
      "image/png": "[encoded data removed]",
      "text/plain": [
       "<Figure size 500x400 with 1 Axes>"
      ]
     },
     "metadata": {},
     "output_type": "display_data"
    }
   ],
   "source": [
    "# Independent variable showing not much dependence to determine the payment default\n",
    "sb.regplot(x='Monthly_Inhand_Salary',y='Outstanding_Debt',data=credit,scatter=True)"
   ]
  },
  {
   "cell_type": "code",
   "execution_count": 35,
   "id": "4fb70594",
   "metadata": {
    "scrolled": true,
    "slideshow": {
     "slide_type": "slide"
    }
   },
   "outputs": [
    {
     "name": "stdout",
     "output_type": "stream",
     "text": [
      "Correlation Coeff -0.411\n"
     ]
    }
   ],
   "source": [
    "Monthly_Inhand_Salary=credit['Monthly_Inhand_Salary']\n",
    "Outstanding_Debt=credit['Outstanding_Debt']\n",
    "spearmanr_coefficient,p_value=spearmanr(Monthly_Inhand_Salary,Outstanding_Debt)\n",
    "print('Correlation Coeff %0.3f'%(spearmanr_coefficient))"
   ]
  },
  {
   "cell_type": "code",
   "execution_count": 36,
   "id": "e4a3a46c",
   "metadata": {
    "slideshow": {
     "slide_type": "slide"
    }
   },
   "outputs": [
    {
     "data": {
      "text/plain": [
       "Month                       0\n",
       "Name                        0\n",
       "Age                         0\n",
       "Occupation                  0\n",
       "Annual_Income               0\n",
       "Monthly_Inhand_Salary       0\n",
       "Num_Bank_Accounts           0\n",
       "Num_Credit_Card             0\n",
       "Interest_Rate               0\n",
       "Num_of_Loan                 0\n",
       "Delay_from_due_date         0\n",
       "Num_of_Delayed_Payment      0\n",
       "Changed_Credit_Limit        0\n",
       "Num_Credit_Inquiries        0\n",
       "Outstanding_Debt            0\n",
       "Credit_Utilization_Ratio    0\n",
       "Payment_of_Min_Amount       0\n",
       "Total_EMI_per_month         0\n",
       "Amount_invested_monthly     0\n",
       "Monthly_Balance             0\n",
       "dtype: int64"
      ]
     },
     "execution_count": 36,
     "metadata": {},
     "output_type": "execute_result"
    }
   ],
   "source": [
    "# Removing the emplhy values\n",
    "credit.isnull().sum()"
   ]
  },
  {
   "cell_type": "code",
   "execution_count": 24,
   "id": "93b7a84d",
   "metadata": {},
   "outputs": [
    {
     "name": "stdout",
     "output_type": "stream",
     "text": [
      "<class 'pandas.core.frame.DataFrame'>\n",
      "RangeIndex: 64 entries, 0 to 63\n",
      "Data columns (total 20 columns):\n",
      " #   Column                    Non-Null Count  Dtype  \n",
      "---  ------                    --------------  -----  \n",
      " 0   Month                     64 non-null     object \n",
      " 1   Name                      64 non-null     object \n",
      " 2   Age                       64 non-null     int64  \n",
      " 3   Occupation                64 non-null     object \n",
      " 4   Annual_Income             64 non-null     object \n",
      " 5   Monthly_Inhand_Salary     64 non-null     float64\n",
      " 6   Num_Bank_Accounts         64 non-null     int64  \n",
      " 7   Num_Credit_Card           64 non-null     int64  \n",
      " 8   Interest_Rate             64 non-null     int64  \n",
      " 9   Num_of_Loan               64 non-null     int64  \n",
      " 10  Delay_from_due_date       64 non-null     int64  \n",
      " 11  Num_of_Delayed_Payment    64 non-null     int64  \n",
      " 12  Changed_Credit_Limit      64 non-null     float64\n",
      " 13  Num_Credit_Inquiries      64 non-null     int64  \n",
      " 14  Outstanding_Debt          64 non-null     float64\n",
      " 15  Credit_Utilization_Ratio  64 non-null     float64\n",
      " 16  Payment_of_Min_Amount     64 non-null     int64  \n",
      " 17  Total_EMI_per_month       64 non-null     float64\n",
      " 18  Amount_invested_monthly   64 non-null     float64\n",
      " 19  Monthly_Balance           64 non-null     float64\n",
      "dtypes: float64(7), int64(9), object(4)\n",
      "memory usage: 10.1+ KB\n"
     ]
    }
   ],
   "source": [
    "credit.info()"
   ]
  },
  {
   "cell_type": "code",
   "execution_count": 29,
   "id": "cad4641c",
   "metadata": {
    "slideshow": {
     "slide_type": "slide"
    }
   },
   "outputs": [
    {
     "name": "stdout",
     "output_type": "stream",
     "text": [
      "[[-0.70494129 -0.41174787]\n",
      " [-0.70494129 -0.41174787]\n",
      " [-0.70494129 -0.41174787]\n",
      " [-0.2906119  -0.64349842]\n",
      " [ 2.83416008  0.14575383]\n",
      " [ 2.83416008  0.14575383]\n",
      " [-0.43593309 -0.6124815 ]\n",
      " [-0.43593309 -0.6124815 ]\n",
      " [-0.43593309 -0.6124815 ]\n",
      " [-0.43640298  0.59938334]\n",
      " [ 2.03382611  0.23025599]\n",
      " [-0.36327435 -0.8511071 ]\n",
      " [-0.36327435 -0.8511071 ]\n",
      " [-0.36327435 -0.8511071 ]\n",
      " [-0.32113847  0.17506329]\n",
      " [-0.32113847  0.17506329]\n",
      " [-0.32113847  0.17506329]\n",
      " [ 1.15363187 -0.2530109 ]\n",
      " [ 1.15363187 -0.2530109 ]\n",
      " [ 0.29979522 -1.12499   ]\n",
      " [ 0.29979522 -1.12499   ]\n",
      " [ 0.29979522 -1.12499   ]\n",
      " [ 0.29979522 -1.12499   ]\n",
      " [-1.15088689  1.61538814]\n",
      " [-1.15088689  1.61538814]\n",
      " [-1.15088689  1.61538814]\n",
      " [-1.15088689  1.61538814]\n",
      " [-0.50309086 -0.47002756]\n",
      " [-0.50309086 -0.47002756]\n",
      " [-0.50309086 -0.47002756]\n",
      " [-0.50309086 -0.47002756]\n",
      " [-0.32334393 -0.40243035]\n",
      " [-0.32334393 -0.40243035]\n",
      " [-0.32334393 -0.40243035]\n",
      " [ 1.26459733  0.13855085]\n",
      " [ 1.26459733  0.13855085]\n",
      " [ 1.26459733  0.13855085]\n",
      " [-0.38905018  0.12354558]\n",
      " [-0.38905018  0.12354558]\n",
      " [-0.38905018  0.12354558]\n",
      " [-0.38905018  0.12354558]\n",
      " [ 1.21605833 -1.20619033]\n",
      " [ 1.21605833 -1.20619033]\n",
      " [ 1.21605833 -1.20619033]\n",
      " [-0.81166433  1.42035358]\n",
      " [-0.81166433  1.42035358]\n",
      " [-0.81166433  1.42035358]\n",
      " [-0.81166433  1.42035358]\n",
      " [-0.70378122 -0.33098854]\n",
      " [-0.70378122 -0.33098854]\n",
      " [-0.70378122 -0.33098854]\n",
      " [-0.70378122 -0.33098854]\n",
      " [-0.96117998  0.56348151]\n",
      " [-0.96117998  0.56348151]\n",
      " [-0.96117998  0.56348151]\n",
      " [-0.96117998  0.56348151]\n",
      " [ 1.7023881  -1.24144762]\n",
      " [ 1.7023881  -1.24144762]\n",
      " [ 1.7023881  -1.24144762]\n",
      " [ 1.7023881  -1.24144762]\n",
      " [-1.06109483 -0.68333531]\n",
      " [ 0.28416891  2.66715909]\n",
      " [ 0.28416891  2.66715909]\n",
      " [ 0.28416891  2.66715909]]\n"
     ]
    }
   ],
   "source": [
    "X=scale(credit_data)\n",
    "print(X)"
   ]
  },
  {
   "cell_type": "code",
   "execution_count": 26,
   "id": "cbda0521",
   "metadata": {
    "slideshow": {
     "slide_type": "slide"
    }
   },
   "outputs": [
    {
     "name": "stdout",
     "output_type": "stream",
     "text": [
      "0.625\n"
     ]
    }
   ],
   "source": [
    "LogReg=LogisticRegression()\n",
    "LogReg.fit(X,y)\n",
    "print(LogReg.score(X,y))"
   ]
  },
  {
   "cell_type": "code",
   "execution_count": 27,
   "id": "9683943c",
   "metadata": {
    "slideshow": {
     "slide_type": "slide"
    }
   },
   "outputs": [
    {
     "name": "stdout",
     "output_type": "stream",
     "text": [
      "              precision    recall  f1-score   support\n",
      "\n",
      "           0       0.46      0.26      0.33        23\n",
      "           1       0.67      0.83      0.74        41\n",
      "\n",
      "    accuracy                           0.62        64\n",
      "   macro avg       0.56      0.55      0.54        64\n",
      "weighted avg       0.59      0.62      0.59        64\n",
      "\n"
     ]
    }
   ],
   "source": [
    "y_pred=LogReg.predict(X)\n",
    "from sklearn.metrics import classification_report\n",
    "print(classification_report(y,y_pred)) # Good Precision & recall rate to determine Payment_of_Min_Amount"
   ]
  }
 ],
 "metadata": {
  "celltoolbar": "Slideshow",
  "kernelspec": {
   "display_name": "Python 3 (ipykernel)",
   "language": "python",
   "name": "python3"
  },
  "language_info": {
   "codemirror_mode": {
    "name": "ipython",
    "version": 3
   },
   "file_extension": ".py",
   "mimetype": "text/x-python",
   "name": "python",
   "nbconvert_exporter": "python",
   "pygments_lexer": "ipython3",
   "version": "3.10.2"
  }
 },
 "nbformat": 4,
 "nbformat_minor": 5
}
